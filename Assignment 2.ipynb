{
 "cells": [
  {
   "cell_type": "code",
   "execution_count": 203,
   "metadata": {
    "collapsed": true
   },
   "outputs": [],
   "source": [
    "import numpy as np\n",
    "import pandas as pd\n",
    "import scipy as sp"
   ]
  },
  {
   "cell_type": "code",
   "execution_count": 204,
   "metadata": {
    "collapsed": true
   },
   "outputs": [],
   "source": [
    "%matplotlib inline\n",
    "import matplotlib.pyplot as plt\n",
    "plt.style.use('ggplot')"
   ]
  },
  {
   "cell_type": "code",
   "execution_count": 205,
   "metadata": {},
   "outputs": [
    {
     "name": "stdout",
     "output_type": "stream",
     "text": [
      "Overwriting hw_data.csv\n"
     ]
    }
   ],
   "source": [
    "%%file hw_data.csv\n",
    "id,sex,weight,height\n",
    "1,M,190,77\n",
    "2,F,120,70\n",
    "3,F,110,68\n",
    "4,M,150,72\n",
    "5,O,120,66\n",
    "6,M,120,60\n",
    "7,F,140,70"
   ]
  },
  {
   "cell_type": "markdown",
   "metadata": {},
   "source": [
    "# Python"
   ]
  },
  {
   "cell_type": "markdown",
   "metadata": {},
   "source": [
    "## 1. Finish creating the following function that takes a list and returns the average value."
   ]
  },
  {
   "cell_type": "code",
   "execution_count": 206,
   "metadata": {},
   "outputs": [
    {
     "data": {
      "text/plain": [
       "3.375"
      ]
     },
     "execution_count": 206,
     "metadata": {},
     "output_type": "execute_result"
    }
   ],
   "source": [
    "def average(my_list):\n",
    "    total = 0\n",
    "    for item in my_list:\n",
    "        #do something with item!\n",
    "        \n",
    "    \n",
    "        return sum(my_list)/len(my_list)\n",
    "\n",
    "average([1,2,1,4,3,2,5,9])"
   ]
  },
  {
   "cell_type": "code",
   "execution_count": 207,
   "metadata": {},
   "outputs": [
    {
     "data": {
      "text/plain": [
       "20.0"
      ]
     },
     "execution_count": 207,
     "metadata": {},
     "output_type": "execute_result"
    }
   ],
   "source": [
    "## Testing the above\n",
    "\n",
    "TestList = [10,20,30,20]\n",
    "average(TestList)"
   ]
  },
  {
   "cell_type": "markdown",
   "metadata": {},
   "source": [
    "## 2. Using a Dictionary keep track of the count of numbers (or items) from a list"
   ]
  },
  {
   "cell_type": "code",
   "execution_count": 208,
   "metadata": {},
   "outputs": [
    {
     "data": {
      "text/plain": [
       "Counter({1: 2, 2: 2, 3: 1, 4: 1, 5: 1, 9: 1})"
      ]
     },
     "execution_count": 208,
     "metadata": {},
     "output_type": "execute_result"
    }
   ],
   "source": [
    "from collections import Counter\n",
    "\n",
    "\n",
    "def counts(my_list):\n",
    "    counts = dict()\n",
    "    for item in my_list:\n",
    "        Counter(my_list)\n",
    "    \n",
    "        return Counter(my_list)\n",
    "\n",
    "counts([1,2,1,4,3,2,5,9])    "
   ]
  },
  {
   "cell_type": "markdown",
   "metadata": {},
   "source": [
    "## 3.  Using the `counts()` function and the `.split()` function, return a dictionary of most occuring words from the following paragraph. Bonus, remove punctuation from words."
   ]
  },
  {
   "cell_type": "code",
   "execution_count": 209,
   "metadata": {},
   "outputs": [
    {
     "data": {
      "text/plain": [
       "<bound method Counter.most_common of Counter({'the': 32, 'and': 16, 'a': 15, 'to': 15, 'of': 9, 'was': 8, 'in': 7, 'she': 6, 'at': 6, 'door': 6, 'out': 5, 'he': 5, 'his': 5, 'Alice': 5, 'you': 5, 'had': 4, 'as': 4, 'this': 4, 'on': 4, 'footman': 3, 'livery': 3, 'him': 3, 'because': 3, 'by': 3, 'large': 3, 'that': 3, 'all': 3, 'their': 3, 'for': 3, 'into': 3, 'up': 3, 'said': 3, 'Footman': 3, 'I': 3, 'might': 3, 'For': 2, 'or': 2, 'two': 2, 'looking': 2, 'house': 2, 'what': 2, 'next': 2, 'when': 2, 'came': 2, 'be': 2, 'face': 2, 'only': 2, 'with': 2, 'opened': 2, 'eyes': 2, 'both': 2, 'over': 2, 'very': 2, 'it': 2, 'little': 2, 'wood': 2, 'The': 2, 'FishFootman': 2, 'from': 2, 'great': 2, 'nearly': 2, 'other': 2, 'solemn': 2, 'tone': 2, 'Duchess': 2, 'An': 2, 'invitation': 2, 'Queen': 2, 'play': 2, 'croquet’': 2, 'repeated': 2, 'same': 2, 'so': 2, 'her': 2, 'sky': 2, 'went': 2, 'no': 2, 'knocking’': 2, 'are': 2, 'noise': 2, 'inside': 2, 'one': 2, 'could': 2, 'if': 2, 'pieces': 2, 'am': 2, 'get': 2, 'in’': 2, 'head': 2, 'minute': 1, 'stood': 1, 'wondering': 1, 'do': 1, 'suddenly': 1, 'running': 1, 'wood—she': 1, 'considered': 1, 'otherwise': 1, 'judging': 1, 'would': 1, 'have': 1, 'called': 1, 'fish—and': 1, 'rapped': 1, 'loudly': 1, 'knuckles': 1, 'It': 1, 'another': 1, 'round': 1, 'like': 1, 'frog': 1, 'footmen': 1, 'noticed': 1, 'powdered': 1, 'hair': 1, 'curled': 1, 'heads': 1, 'She': 1, 'felt': 1, 'curious': 1, 'know': 1, 'about': 1, 'crept': 1, 'way': 1, 'listen': 1, 'began': 1, 'producing': 1, 'under': 1, 'arm': 1, 'letter': 1, 'himself': 1, 'handed': 1, 'saying': 1, '‘For': 1, 'FrogFootman': 1, 'changing': 1, 'order': 1, 'words': 1, '‘From': 1, 'Then': 1, 'they': 1, 'bowed': 1, 'low': 1, 'curls': 1, 'got': 1, 'entangled': 1, 'together': 1, 'laughed': 1, 'much': 1, 'run': 1, 'back': 1, 'fear': 1, 'hearing': 1, 'peeped': 1, 'gone': 1, 'sitting': 1, 'ground': 1, 'near': 1, 'staring': 1, 'stupidly': 1, 'timidly': 1, 'knocked': 1, '‘There’s': 1, 'sort': 1, 'use': 1, '‘and': 1, 'reasons': 1, 'First': 1, 'I’m': 1, 'side': 1, 'secondly': 1, 'they’re': 1, 'making': 1, 'such': 1, 'possibly': 1, 'hear': 1, 'you’': 1, 'And': 1, 'certainly': 1, 'there': 1, 'most': 1, 'extraordinary': 1, 'going': 1, 'within—a': 1, 'constant': 1, 'howling': 1, 'sneezing': 1, 'every': 1, 'now': 1, 'then': 1, 'crash': 1, 'dish': 1, 'kettle': 1, 'been': 1, 'broken': 1, '‘Please': 1, 'then’': 1, '‘how': 1, '‘There': 1, 'some': 1, 'sense': 1, 'your': 1, 'without': 1, 'attending': 1, '‘if': 1, 'we': 1, 'between': 1, 'us': 1, 'instance': 1, 'were': 1, 'knock': 1, 'let': 1, 'know’': 1, 'He': 1, 'time': 1, 'speaking': 1, 'thought': 1, 'decidedly': 1, 'uncivil': 1, '‘But': 1, 'perhaps': 1, 'can’t': 1, 'help': 1, 'it’': 1, 'herself': 1, '‘his': 1, 'top': 1, 'But': 1, 'any': 1, 'rate': 1, 'answer': 1, 'questions—How': 1, 'aloud': 1, '‘I': 1, 'shall': 1, 'sit': 1, 'here’': 1, 'remarked': 1, '‘till': 1, 'tomorrow—’': 1, 'At': 1, 'moment': 1, 'plate': 1, 'skimming': 1, 'straight': 1, 'Footman’s': 1, 'just': 1, 'grazed': 1, 'nose': 1, 'broke': 1, 'against': 1, 'trees': 1, 'behind': 1})>"
      ]
     },
     "execution_count": 209,
     "metadata": {},
     "output_type": "execute_result"
    }
   ],
   "source": [
    "import string\n",
    "\n",
    "paragraph_text = '''\n",
    "For a minute or two she stood looking at the house, and wondering what to do next, when suddenly a footman in livery came running out of the wood—(she considered him to be a footman because he was in livery: otherwise, judging by his face only, she would have called him a fish)—and rapped loudly at the door with his knuckles. It was opened by another footman in livery, with a round face, and large eyes like a frog; and both footmen, Alice noticed, had powdered hair that curled all over their heads. She felt very curious to know what it was all about, and crept a little way out of the wood to listen.\n",
    "The Fish-Footman began by producing from under his arm a great letter, nearly as large as himself, and this he handed over to the other, saying, in a solemn tone, ‘For the Duchess. An invitation from the Queen to play croquet.’ The Frog-Footman repeated, in the same solemn tone, only changing the order of the words a little, ‘From the Queen. An invitation for the Duchess to play croquet.’\n",
    "Then they both bowed low, and their curls got entangled together.\n",
    "Alice laughed so much at this, that she had to run back into the wood for fear of their hearing her; and when she next peeped out the Fish-Footman was gone, and the other was sitting on the ground near the door, staring stupidly up into the sky.\n",
    "Alice went timidly up to the door, and knocked.\n",
    "‘There’s no sort of use in knocking,’ said the Footman, ‘and that for two reasons. First, because I’m on the same side of the door as you are; secondly, because they’re making such a noise inside, no one could possibly hear you.’ And certainly there was a most extraordinary noise going on within—a constant howling and sneezing, and every now and then a great crash, as if a dish or kettle had been broken to pieces.\n",
    "‘Please, then,’ said Alice, ‘how am I to get in?’\n",
    "‘There might be some sense in your knocking,’ the Footman went on without attending to her, ‘if we had the door between us. For instance, if you were inside, you might knock, and I could let you out, you know.’ He was looking up into the sky all the time he was speaking, and this Alice thought decidedly uncivil. ‘But perhaps he can’t help it,’ she said to herself; ‘his eyes are so very nearly at the top of his head. But at any rate he might answer questions.—How am I to get in?’ she repeated, aloud.\n",
    "‘I shall sit here,’ the Footman remarked, ‘till tomorrow—’\n",
    "At this moment the door of the house opened, and a large plate came skimming out, straight at the Footman’s head: it just grazed his nose, and broke to pieces against one of the trees behind him.'''\n",
    "\n",
    "exclude = set(string.punctuation)\n",
    "paragraph_text_refined_1 = ''.join(ch for ch in paragraph_text if ch not in exclude)\n",
    "\n",
    "paragraph_text_refined_2 = paragraph_text_refined_1.split()\n",
    "\n",
    "counts(paragraph_text_refined_2)\n",
    "\n",
    "Counter(paragraph_text_refined_2).most_common\n",
    "\n"
   ]
  },
  {
   "cell_type": "markdown",
   "metadata": {},
   "source": [
    "## 4. Read in a file and write each line from the file to a new file Title-ized\n",
    "\n",
    "`This is the first line` ->  `This Is The First Line`\n",
    "\n",
    "Hint: There's a function to do this"
   ]
  },
  {
   "cell_type": "code",
   "execution_count": 210,
   "metadata": {},
   "outputs": [
    {
     "name": "stdout",
     "output_type": "stream",
     "text": [
      "['This is the first line']\n",
      "This Is The First Line\n"
     ]
    }
   ],
   "source": [
    "with open(r'C:\\Users\\Default.LAPTOP-UIH3CMU1\\Desktop\\test.txt') as File1:\n",
    "    line_list = File1.readlines();\n",
    "    for line in line_list:\n",
    "        print(line_list)\n",
    "\n",
    "with open(\"out.txt\", \"w\") as File2:\n",
    "    for line in line_list:\n",
    "        Titled = line.title()\n",
    "        print(Titled)\n",
    "        \n",
    "        \n",
    "        File2.writelines(Titled)\n",
    "        "
   ]
  },
  {
   "cell_type": "markdown",
   "metadata": {},
   "source": [
    "# Numpy"
   ]
  },
  {
   "cell_type": "markdown",
   "metadata": {},
   "source": [
    "## 1. Given a list, find the average using a numpy function. "
   ]
  },
  {
   "cell_type": "code",
   "execution_count": 211,
   "metadata": {},
   "outputs": [
    {
     "data": {
      "text/plain": [
       "3.375"
      ]
     },
     "execution_count": 211,
     "metadata": {},
     "output_type": "execute_result"
    }
   ],
   "source": [
    "simple_list = [1,2,1,4,3,2,5,9]\n",
    "\n",
    "np.mean(simple_list)"
   ]
  },
  {
   "cell_type": "markdown",
   "metadata": {},
   "source": [
    "## 2. Given two lists of Heights and Weights of individual, calculate the BMI of those individuals, without writing a `for-loop`"
   ]
  },
  {
   "cell_type": "code",
   "execution_count": 212,
   "metadata": {},
   "outputs": [
    {
     "name": "stdout",
     "output_type": "stream",
     "text": [
      "[ 0.50574713  0.47976879  0.53179191  0.42285714  0.4502924 ]\n"
     ]
    }
   ],
   "source": [
    "heights = np.array([174, 173, 173, 175, 171])\n",
    "weights = np.array([88, 83, 92, 74, 77])\n",
    "\n",
    "BMI = weights/heights\n",
    "\n",
    "print(BMI)"
   ]
  },
  {
   "cell_type": "markdown",
   "metadata": {},
   "source": [
    "## 3. Create an array of length 20 filled with random values (between 0 to 1) "
   ]
  },
  {
   "cell_type": "code",
   "execution_count": 213,
   "metadata": {},
   "outputs": [
    {
     "data": {
      "text/plain": [
       "array([0, 1, 0, 1, 0, 1, 0, 1, 1, 0, 0, 1, 1, 1, 0, 1, 1, 0, 0, 1])"
      ]
     },
     "execution_count": 213,
     "metadata": {},
     "output_type": "execute_result"
    }
   ],
   "source": [
    "np.random.choice([0, 1], size=(20,))"
   ]
  },
  {
   "cell_type": "code",
   "execution_count": 214,
   "metadata": {},
   "outputs": [
    {
     "data": {
      "text/plain": [
       "array([ 0.49168622,  0.50250707,  0.01653418,  0.17477752,  0.77029894,\n",
       "        0.32858913,  0.84416098,  0.69805199,  0.75597953,  0.35425593,\n",
       "        0.617936  ,  0.31557748,  0.01126374,  0.58047844,  0.47523217,\n",
       "        0.6714777 ,  0.03001903,  0.39250267,  0.4085532 ,  0.16187037])"
      ]
     },
     "execution_count": 214,
     "metadata": {},
     "output_type": "execute_result"
    }
   ],
   "source": [
    "Random_Sample = np.random.uniform(low=0, high=1, size=(20,))\n",
    "\n",
    "Random_Sample"
   ]
  },
  {
   "cell_type": "markdown",
   "metadata": {},
   "source": [
    "## Bonus. 1. Create an array with a large (>1000) length filled with random numbers from different distributions (normal, uniform, etc.). 2. Then, plot a histogram of these values. "
   ]
  },
  {
   "cell_type": "code",
   "execution_count": 249,
   "metadata": {},
   "outputs": [
    {
     "data": {
      "image/png": "[encoded data removed]",
      "text/plain": [
       "<matplotlib.figure.Figure at 0x27f24968438>"
      ]
     },
     "metadata": {},
     "output_type": "display_data"
    }
   ],
   "source": [
    "#Normal Distribution\n",
    "\n",
    "NormalD = np.random.normal(0, 0.1, 1500)\n",
    "plt.hist(NormalD, 30, normed=True, color='r')\n",
    "\n",
    "plt.show()"
   ]
  },
  {
   "cell_type": "code",
   "execution_count": 244,
   "metadata": {},
   "outputs": [
    {
     "data": {
      "image/png": "[encoded data removed]",
      "text/plain": [
       "<matplotlib.figure.Figure at 0x27f24954160>"
      ]
     },
     "metadata": {},
     "output_type": "display_data"
    }
   ],
   "source": [
    "#Uniform Distribution: \n",
    "\n",
    "\n",
    "UniD = np.random.uniform(-1,0,1000)\n",
    "plt.hist(UniD, 15, normed=True, color='y')\n",
    "\n",
    "plt.show()"
   ]
  },
  {
   "cell_type": "markdown",
   "metadata": {},
   "source": [
    "# Pandas"
   ]
  },
  {
   "cell_type": "markdown",
   "metadata": {},
   "source": [
    "## 1. Read in a CSV () and display all the columns and their respective data types "
   ]
  },
  {
   "cell_type": "code",
   "execution_count": 217,
   "metadata": {},
   "outputs": [
    {
     "data": {
      "text/html": [
       "<div>\n",
       "<style>\n",
       "    .dataframe thead tr:only-child th {\n",
       "        text-align: right;\n",
       "    }\n",
       "\n",
       "    .dataframe thead th {\n",
       "        text-align: left;\n",
       "    }\n",
       "\n",
       "    .dataframe tbody tr th {\n",
       "        vertical-align: top;\n",
       "    }\n",
       "</style>\n",
       "<table border=\"1\" class=\"dataframe\">\n",
       "  <thead>\n",
       "    <tr style=\"text-align: right;\">\n",
       "      <th></th>\n",
       "      <th>id</th>\n",
       "      <th>sex</th>\n",
       "      <th>weight</th>\n",
       "      <th>height</th>\n",
       "    </tr>\n",
       "  </thead>\n",
       "  <tbody>\n",
       "    <tr>\n",
       "      <th>0</th>\n",
       "      <td>1</td>\n",
       "      <td>M</td>\n",
       "      <td>190</td>\n",
       "      <td>77</td>\n",
       "    </tr>\n",
       "    <tr>\n",
       "      <th>1</th>\n",
       "      <td>2</td>\n",
       "      <td>F</td>\n",
       "      <td>120</td>\n",
       "      <td>70</td>\n",
       "    </tr>\n",
       "    <tr>\n",
       "      <th>2</th>\n",
       "      <td>3</td>\n",
       "      <td>F</td>\n",
       "      <td>110</td>\n",
       "      <td>68</td>\n",
       "    </tr>\n",
       "    <tr>\n",
       "      <th>3</th>\n",
       "      <td>4</td>\n",
       "      <td>M</td>\n",
       "      <td>150</td>\n",
       "      <td>72</td>\n",
       "    </tr>\n",
       "    <tr>\n",
       "      <th>4</th>\n",
       "      <td>5</td>\n",
       "      <td>O</td>\n",
       "      <td>120</td>\n",
       "      <td>66</td>\n",
       "    </tr>\n",
       "  </tbody>\n",
       "</table>\n",
       "</div>"
      ],
      "text/plain": [
       "   id sex  weight  height\n",
       "0   1   M     190      77\n",
       "1   2   F     120      70\n",
       "2   3   F     110      68\n",
       "3   4   M     150      72\n",
       "4   5   O     120      66"
      ]
     },
     "execution_count": 217,
     "metadata": {},
     "output_type": "execute_result"
    }
   ],
   "source": [
    "HealthStats = pd.read_csv(\"hw_data.csv\",)\n",
    "\n",
    "HealthStats.head()"
   ]
  },
  {
   "cell_type": "markdown",
   "metadata": {},
   "source": [
    "## 2. Find the average weight "
   ]
  },
  {
   "cell_type": "code",
   "execution_count": 218,
   "metadata": {},
   "outputs": [
    {
     "data": {
      "text/plain": [
       "135.71428571428572"
      ]
     },
     "execution_count": 218,
     "metadata": {},
     "output_type": "execute_result"
    }
   ],
   "source": [
    "HealthStats['weight'].mean()"
   ]
  },
  {
   "cell_type": "markdown",
   "metadata": {},
   "source": [
    "## 3. Find the Value Counts on column `sex` "
   ]
  },
  {
   "cell_type": "code",
   "execution_count": 219,
   "metadata": {},
   "outputs": [
    {
     "data": {
      "text/plain": [
       "7"
      ]
     },
     "execution_count": 219,
     "metadata": {},
     "output_type": "execute_result"
    }
   ],
   "source": [
    "HealthStats['sex'].count()"
   ]
  },
  {
   "cell_type": "markdown",
   "metadata": {},
   "source": [
    "## 4. Plot Height vs. Weight "
   ]
  },
  {
   "cell_type": "code",
   "execution_count": 220,
   "metadata": {},
   "outputs": [
    {
     "data": {
      "text/plain": [
       "<matplotlib.axes._subplots.AxesSubplot at 0x27f2434b2b0>"
      ]
     },
     "execution_count": 220,
     "metadata": {},
     "output_type": "execute_result"
    },
    {
     "data": {
      "image/png": "[encoded data removed]",
      "text/plain": [
       "<matplotlib.figure.Figure at 0x27f243f1860>"
      ]
     },
     "metadata": {},
     "output_type": "display_data"
    }
   ],
   "source": [
    "HealthStats.weight.plot(color='b',lw=2.0)\n",
    "HealthStats.height.plot(color='r',lw=2.0)"
   ]
  },
  {
   "cell_type": "markdown",
   "metadata": {},
   "source": [
    "## 5. Calculate BMI and save as a new column"
   ]
  },
  {
   "cell_type": "code",
   "execution_count": 221,
   "metadata": {},
   "outputs": [
    {
     "name": "stdout",
     "output_type": "stream",
     "text": [
      "   id sex  weight  height       BMI\n",
      "0   1   M     190      77  2.467532\n",
      "1   2   F     120      70  1.714286\n",
      "2   3   F     110      68  1.617647\n",
      "3   4   M     150      72  2.083333\n",
      "4   5   O     120      66  1.818182\n",
      "5   6   M     120      60  2.000000\n",
      "6   7   F     140      70  2.000000\n"
     ]
    }
   ],
   "source": [
    "HealthStats['BMI'] = HealthStats.weight / HealthStats.height\n",
    "\n",
    "print(HealthStats)"
   ]
  },
  {
   "cell_type": "markdown",
   "metadata": {},
   "source": [
    "## 6. Save sheet as a new CSV file `hw_dataB.csv`"
   ]
  },
  {
   "cell_type": "code",
   "execution_count": 222,
   "metadata": {
    "collapsed": true
   },
   "outputs": [],
   "source": [
    "HealthStats.to_csv('hw_dataB.csv')"
   ]
  },
  {
   "cell_type": "markdown",
   "metadata": {},
   "source": [
    "## Run the following"
   ]
  },
  {
   "cell_type": "code",
   "execution_count": 223,
   "metadata": {},
   "outputs": [
    {
     "name": "stdout",
     "output_type": "stream",
     "text": [
      ",id,sex,weight,height,BMI\n",
      "0,1,M,190,77,2.4675324675324677\n",
      "1,2,F,120,70,1.7142857142857142\n",
      "2,3,F,110,68,1.6176470588235294\n",
      "3,4,M,150,72,2.0833333333333335\n",
      "4,5,O,120,66,1.8181818181818181\n",
      "5,6,M,120,60,2.0\n",
      "6,7,F,140,70,2.0\n"
     ]
    }
   ],
   "source": [
    "!cat hw_dataB.csv"
   ]
  },
  {
   "cell_type": "code",
   "execution_count": null,
   "metadata": {
    "collapsed": true
   },
   "outputs": [],
   "source": []
  }
 ],
 "metadata": {
  "kernelspec": {
   "display_name": "Python 3",
   "language": "python",
   "name": "python3"
  },
  "language_info": {
   "codemirror_mode": {
    "name": "ipython",
    "version": 3
   },
   "file_extension": ".py",
   "mimetype": "text/x-python",
   "name": "python",
   "nbconvert_exporter": "python",
   "pygments_lexer": "ipython3",
   "version": "3.6.3"
  }
 },
 "nbformat": 4,
 "nbformat_minor": 1
}
